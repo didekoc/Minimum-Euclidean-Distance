{
 "cells": [
  {
   "cell_type": "code",
   "execution_count": 13,
   "id": "bc9f7ec5",
   "metadata": {},
   "outputs": [
    {
     "name": "stdout",
     "output_type": "stream",
     "text": [
      "1.0\n"
     ]
    }
   ],
   "source": [
    "import math\n",
    "\n",
    "points = [(0,0), (0,1), (5,0), (-1,2), (3,4), (100,10)]\n",
    "\n",
    "def euclideanDistance(point1, point2):\n",
    "    distance = 0\n",
    "    for i in range(2):\n",
    "        distance += (point2[i] - point1[i])**2\n",
    "    return math.sqrt(distance)   \n",
    "\n",
    "distances = []\n",
    "\n",
    "for i in range(len(points)):\n",
    "    for j in range(i,len(points)):\n",
    "        if i==j:\n",
    "            continue\n",
    "        res = euclideanDistance(points[i],points[j])\n",
    "        distances.append(res)\n",
    "\n",
    "distances.sort()\n",
    "minimum = distances[0]\n",
    "\n",
    "print(minimum)"
   ]
  },
  {
   "cell_type": "code",
   "execution_count": null,
   "id": "2846324c",
   "metadata": {},
   "outputs": [],
   "source": []
  }
 ],
 "metadata": {
  "kernelspec": {
   "display_name": "Python 3 (ipykernel)",
   "language": "python",
   "name": "python3"
  },
  "language_info": {
   "codemirror_mode": {
    "name": "ipython",
    "version": 3
   },
   "file_extension": ".py",
   "mimetype": "text/x-python",
   "name": "python",
   "nbconvert_exporter": "python",
   "pygments_lexer": "ipython3",
   "version": "3.10.7"
  }
 },
 "nbformat": 4,
 "nbformat_minor": 5
}
